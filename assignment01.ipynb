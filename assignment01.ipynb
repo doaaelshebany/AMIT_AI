{
 "cells": [
  {
   "cell_type": "code",
   "execution_count": 5,
   "id": "0493126e-4815-4477-96ad-84c210dda974",
   "metadata": {},
   "outputs": [],
   "source": [
    "str=\"hello\""
   ]
  },
  {
   "cell_type": "code",
   "execution_count": 6,
   "id": "366259c5-4ee0-4418-b418-d1bc1853d0c5",
   "metadata": {},
   "outputs": [
    {
     "data": {
      "text/plain": [
       "'e'"
      ]
     },
     "execution_count": 6,
     "metadata": {},
     "output_type": "execute_result"
    }
   ],
   "source": [
    "str[1]"
   ]
  },
  {
   "cell_type": "code",
   "execution_count": 7,
   "id": "9b5df335-44f5-4e87-8965-9cc2a6dbbdbd",
   "metadata": {},
   "outputs": [
    {
     "data": {
      "text/plain": [
       "'olleh'"
      ]
     },
     "execution_count": 7,
     "metadata": {},
     "output_type": "execute_result"
    }
   ],
   "source": [
    "str[::-1]"
   ]
  },
  {
   "cell_type": "code",
   "execution_count": 8,
   "id": "b47bf14d-1e64-47a9-b034-3fb7cdda2119",
   "metadata": {},
   "outputs": [
    {
     "data": {
      "text/plain": [
       "'o'"
      ]
     },
     "execution_count": 8,
     "metadata": {},
     "output_type": "execute_result"
    }
   ],
   "source": [
    "str[4]"
   ]
  },
  {
   "cell_type": "code",
   "execution_count": 9,
   "id": "9b5de616-592c-4b6f-ae9d-c0d7c3223bb0",
   "metadata": {},
   "outputs": [
    {
     "data": {
      "text/plain": [
       "'o'"
      ]
     },
     "execution_count": 9,
     "metadata": {},
     "output_type": "execute_result"
    }
   ],
   "source": [
    "str[-1]"
   ]
  },
  {
   "cell_type": "code",
   "execution_count": null,
   "id": "f95f84de-cf2f-4cda-8844-f4dabcd2befb",
   "metadata": {},
   "outputs": [],
   "source": [
    "#answer to list assignment #\n"
   ]
  },
  {
   "cell_type": "code",
   "execution_count": 12,
   "id": "3e2e751c-a46c-4293-9e0b-d8376a756655",
   "metadata": {},
   "outputs": [],
   "source": [
    "list_1=\"000\""
   ]
  },
  {
   "cell_type": "code",
   "execution_count": 14,
   "id": "6e6dd938-3ceb-48f8-a3b0-6877131a871b",
   "metadata": {},
   "outputs": [],
   "source": [
    "list_2=[\"0\",\"0\",\"0\"]"
   ]
  },
  {
   "cell_type": "code",
   "execution_count": null,
   "id": "eed227b2-59a8-4ba9-bf3b-4ede4b693270",
   "metadata": {},
   "outputs": [],
   "source": [
    "# end answer to list #\n"
   ]
  },
  {
   "cell_type": "code",
   "execution_count": 24,
   "id": "dc78e83d-b397-4845-800a-de63abc3ace2",
   "metadata": {},
   "outputs": [],
   "source": [
    "list_3 = [1,2,[3,4,'hello']]"
   ]
  },
  {
   "cell_type": "code",
   "execution_count": 25,
   "id": "ba590f91-ff68-4105-b723-da122126d73a",
   "metadata": {},
   "outputs": [
    {
     "name": "stdout",
     "output_type": "stream",
     "text": [
      "[1, 2, [3, 4, 'hello']]\n"
     ]
    }
   ],
   "source": [
    "print(list_3)"
   ]
  },
  {
   "cell_type": "code",
   "execution_count": 28,
   "id": "4c69dd04-14f2-4dc3-8c80-f4cd3b03d8c8",
   "metadata": {},
   "outputs": [],
   "source": [
    "list_hello = list_3[2]\n"
   ]
  },
  {
   "cell_type": "code",
   "execution_count": 29,
   "id": "9d6935c8-05d3-4978-829f-0f49bdf3af3c",
   "metadata": {},
   "outputs": [
    {
     "name": "stdout",
     "output_type": "stream",
     "text": [
      "2\n"
     ]
    }
   ],
   "source": [
    "print(list_hello.index('hello'))"
   ]
  },
  {
   "cell_type": "code",
   "execution_count": 30,
   "id": "e15b1d5f-b162-47c3-950b-cb82b8a95c4e",
   "metadata": {},
   "outputs": [],
   "source": [
    "list_hello[list_hello.index('hello')] ='goodbye'"
   ]
  },
  {
   "cell_type": "code",
   "execution_count": 31,
   "id": "10f3acb9-7651-487e-a48d-587fe736ca66",
   "metadata": {},
   "outputs": [],
   "source": [
    "list_3[2]=list_hello"
   ]
  },
  {
   "cell_type": "code",
   "execution_count": 32,
   "id": "a3854ce4-cd55-4784-a3e4-a0c39b3003d7",
   "metadata": {},
   "outputs": [
    {
     "name": "stdout",
     "output_type": "stream",
     "text": [
      "[1, 2, [3, 4, 'goodbye']]\n"
     ]
    }
   ],
   "source": [
    "print(list_3)"
   ]
  },
  {
   "cell_type": "code",
   "execution_count": null,
   "id": "6818612d-854f-4b46-99c8-60bf78428f5f",
   "metadata": {},
   "outputs": [],
   "source": [
    "#end q#"
   ]
  },
  {
   "cell_type": "code",
   "execution_count": 41,
   "id": "ec280f8f-3ac8-4b8d-875b-fec29791643a",
   "metadata": {},
   "outputs": [],
   "source": [
    "list_4 = [5,3,4,6,1]\n"
   ]
  },
  {
   "cell_type": "code",
   "execution_count": 42,
   "id": "c2218da0-cb36-4eb1-9508-ff38a4a8a3fc",
   "metadata": {},
   "outputs": [],
   "source": [
    "list_4.sort()"
   ]
  },
  {
   "cell_type": "code",
   "execution_count": 43,
   "id": "3e8657a6-e5d2-4241-b7f4-57724f23aa86",
   "metadata": {},
   "outputs": [
    {
     "name": "stdout",
     "output_type": "stream",
     "text": [
      "[1, 3, 4, 5, 6]\n"
     ]
    }
   ],
   "source": [
    "print(list_4)"
   ]
  },
  {
   "cell_type": "code",
   "execution_count": null,
   "id": "f0ace913-82f6-4354-895a-d08914f73971",
   "metadata": {},
   "outputs": [],
   "source": [
    "#start of q dic#"
   ]
  },
  {
   "cell_type": "code",
   "execution_count": 44,
   "id": "e5ee5d23-b724-43c1-8cbe-ca7f650fb8a3",
   "metadata": {},
   "outputs": [],
   "source": [
    "d = {'simple_key':'hello'}"
   ]
  },
  {
   "cell_type": "code",
   "execution_count": 45,
   "id": "a6497dfe-2698-47d5-8d29-f80646733677",
   "metadata": {},
   "outputs": [
    {
     "data": {
      "text/plain": [
       "'hello'"
      ]
     },
     "execution_count": 45,
     "metadata": {},
     "output_type": "execute_result"
    }
   ],
   "source": [
    "d['simple_key']"
   ]
  },
  {
   "cell_type": "code",
   "execution_count": 46,
   "id": "ea05f58a-d29e-482e-8f83-7729292499f9",
   "metadata": {},
   "outputs": [],
   "source": [
    "d = {'k1':{'k2':'hello'}}"
   ]
  },
  {
   "cell_type": "code",
   "execution_count": 47,
   "id": "d06db442-7811-4557-b04c-ba718d8ed868",
   "metadata": {},
   "outputs": [
    {
     "data": {
      "text/plain": [
       "{'k2': 'hello'}"
      ]
     },
     "execution_count": 47,
     "metadata": {},
     "output_type": "execute_result"
    }
   ],
   "source": [
    "d['k1']"
   ]
  },
  {
   "cell_type": "code",
   "execution_count": 50,
   "id": "97939292-96f9-4e62-96f4-75a42d08dea6",
   "metadata": {},
   "outputs": [],
   "source": [
    "k1= d['k1']\n",
    "      "
   ]
  },
  {
   "cell_type": "code",
   "execution_count": 51,
   "id": "ee796b85-1e3b-4844-9c84-b70f0f4e07fd",
   "metadata": {},
   "outputs": [
    {
     "data": {
      "text/plain": [
       "'hello'"
      ]
     },
     "execution_count": 51,
     "metadata": {},
     "output_type": "execute_result"
    }
   ],
   "source": [
    "k1['k2']\n"
   ]
  },
  {
   "cell_type": "code",
   "execution_count": 69,
   "id": "ddba5fe1-22d6-4fa7-a57a-1a668586cfe2",
   "metadata": {},
   "outputs": [],
   "source": [
    "d = {'k1':[{'nest_key':['this is deep',['hello']]}]}"
   ]
  },
  {
   "cell_type": "code",
   "execution_count": 70,
   "id": "6605eee8-2286-451f-9358-58d0eed9f087",
   "metadata": {},
   "outputs": [
    {
     "data": {
      "text/plain": [
       "[{'nest_key': ['this is deep', ['hello']]}]"
      ]
     },
     "execution_count": 70,
     "metadata": {},
     "output_type": "execute_result"
    }
   ],
   "source": [
    "d['k1']"
   ]
  },
  {
   "cell_type": "code",
   "execution_count": 71,
   "id": "194aa5aa-fb54-426a-8e8b-8f5e88f76f4c",
   "metadata": {},
   "outputs": [],
   "source": [
    "k1=d['k1']"
   ]
  },
  {
   "cell_type": "code",
   "execution_count": 72,
   "id": "dc6f4d71-6323-46c9-8bdc-5d41ffadf0cf",
   "metadata": {},
   "outputs": [
    {
     "data": {
      "text/plain": [
       "[{'nest_key': ['this is deep', ['hello']]}]"
      ]
     },
     "execution_count": 72,
     "metadata": {},
     "output_type": "execute_result"
    }
   ],
   "source": [
    "k1\n"
   ]
  },
  {
   "cell_type": "code",
   "execution_count": 73,
   "id": "86567823-2c80-40a4-88d1-25747f474e45",
   "metadata": {},
   "outputs": [],
   "source": [
    "nest_key = k1[0]\n"
   ]
  },
  {
   "cell_type": "code",
   "execution_count": 74,
   "id": "a4fff40f-b56f-4ecb-adf0-cb80f5ca3541",
   "metadata": {},
   "outputs": [
    {
     "data": {
      "text/plain": [
       "{'nest_key': ['this is deep', ['hello']]}"
      ]
     },
     "execution_count": 74,
     "metadata": {},
     "output_type": "execute_result"
    }
   ],
   "source": [
    "nest_key\n"
   ]
  },
  {
   "cell_type": "code",
   "execution_count": 75,
   "id": "7a863fb0-f25d-4e9e-b06f-d88de074d8c9",
   "metadata": {},
   "outputs": [],
   "source": [
    "k2 = nest_key ['nest_key']\n"
   ]
  },
  {
   "cell_type": "code",
   "execution_count": 76,
   "id": "a035b6a8-380a-42b4-881d-7f092b86f29f",
   "metadata": {},
   "outputs": [
    {
     "data": {
      "text/plain": [
       "['this is deep', ['hello']]"
      ]
     },
     "execution_count": 76,
     "metadata": {},
     "output_type": "execute_result"
    }
   ],
   "source": [
    "k2"
   ]
  },
  {
   "cell_type": "code",
   "execution_count": 77,
   "id": "19866362-503e-4262-b38d-5e9d0a69e58b",
   "metadata": {},
   "outputs": [
    {
     "data": {
      "text/plain": [
       "['hello']"
      ]
     },
     "execution_count": 77,
     "metadata": {},
     "output_type": "execute_result"
    }
   ],
   "source": [
    "k2[1]"
   ]
  },
  {
   "cell_type": "code",
   "execution_count": 78,
   "id": "ff929bb9-dab4-4794-882f-ed1ce3c81a50",
   "metadata": {},
   "outputs": [
    {
     "data": {
      "text/plain": [
       "'hello'"
      ]
     },
     "execution_count": 78,
     "metadata": {},
     "output_type": "execute_result"
    }
   ],
   "source": [
    "k2[1][0]\n"
   ]
  },
  {
   "cell_type": "code",
   "execution_count": 79,
   "id": "017327d3-af51-4599-be84-2bacabe746b2",
   "metadata": {},
   "outputs": [],
   "source": [
    "d = {'k1':[{'nest_key':['this is deep',['hello']]}]}"
   ]
  },
  {
   "cell_type": "code",
   "execution_count": 82,
   "id": "cc8f8b50-c2fb-4853-812f-a6cc41a4d8c1",
   "metadata": {},
   "outputs": [
    {
     "data": {
      "text/plain": [
       "'hello'"
      ]
     },
     "execution_count": 82,
     "metadata": {},
     "output_type": "execute_result"
    }
   ],
   "source": [
    "d['k1'][0]['nest_key'][1][0]"
   ]
  },
  {
   "cell_type": "code",
   "execution_count": 83,
   "id": "cc70416d-7fba-444e-9b33-4b355c37d23e",
   "metadata": {},
   "outputs": [],
   "source": [
    "d = {'k1':[1,2,{'k2':['this is tricky',{'tough':[1,2,['hello']]}]}]}"
   ]
  },
  {
   "cell_type": "code",
   "execution_count": 84,
   "id": "f76e6dca-12b2-4d0e-80f2-9597c2bd363b",
   "metadata": {},
   "outputs": [],
   "source": [
    "k1=d['k1']"
   ]
  },
  {
   "cell_type": "code",
   "execution_count": 85,
   "id": "20cd824e-3a1e-45c7-b0d0-38fbf50552a7",
   "metadata": {},
   "outputs": [],
   "source": [
    "k2=k1[2]['k2']\n"
   ]
  },
  {
   "cell_type": "code",
   "execution_count": 86,
   "id": "3f7166dd-8f49-409e-8351-f5b38f58b89b",
   "metadata": {},
   "outputs": [
    {
     "data": {
      "text/plain": [
       "['this is tricky', {'tough': [1, 2, ['hello']]}]"
      ]
     },
     "execution_count": 86,
     "metadata": {},
     "output_type": "execute_result"
    }
   ],
   "source": [
    "k2\n"
   ]
  },
  {
   "cell_type": "code",
   "execution_count": 87,
   "id": "928ed2f5-44fb-4d97-800d-0a1f06e60380",
   "metadata": {},
   "outputs": [],
   "source": [
    "tough =k2[1]['tough']\n"
   ]
  },
  {
   "cell_type": "code",
   "execution_count": 90,
   "id": "8ca5b5e2-d6bb-4759-8598-f778eb04da97",
   "metadata": {},
   "outputs": [],
   "source": [
    "hellovar = tough[2][0]\n"
   ]
  },
  {
   "cell_type": "code",
   "execution_count": 91,
   "id": "4cd4bb74-4d6b-4b2f-b71e-94b1c9525bc0",
   "metadata": {},
   "outputs": [
    {
     "data": {
      "text/plain": [
       "'hello'"
      ]
     },
     "execution_count": 91,
     "metadata": {},
     "output_type": "execute_result"
    }
   ],
   "source": [
    "hellovar"
   ]
  },
  {
   "cell_type": "code",
   "execution_count": 97,
   "id": "ecf4187b-d78a-4760-a877-bc217c15818e",
   "metadata": {},
   "outputs": [],
   "source": [
    "planet=\"earth\""
   ]
  },
  {
   "cell_type": "code",
   "execution_count": 98,
   "id": "c8204382-d107-401e-bee8-51a0cc146411",
   "metadata": {},
   "outputs": [],
   "source": [
    "diameter=12742"
   ]
  },
  {
   "cell_type": "code",
   "execution_count": 100,
   "id": "12d8f26e-094c-46bc-b84a-f2fe75a56596",
   "metadata": {},
   "outputs": [],
   "source": [
    "txt = \"The diameter of {planet} is {diameter} kilometers.\""
   ]
  },
  {
   "cell_type": "code",
   "execution_count": 110,
   "id": "feb2947e-ddcf-472c-b8d1-1b2d386e4b2f",
   "metadata": {},
   "outputs": [
    {
     "name": "stdout",
     "output_type": "stream",
     "text": [
      "The diameter of earth is 12742 kilometers.\n"
     ]
    }
   ],
   "source": [
    "print(txt.format(planet=\"earth\",diameter=12742))"
   ]
  },
  {
   "cell_type": "code",
   "execution_count": 111,
   "id": "4efd2412-1b9f-4fa0-ba42-34b660dc087c",
   "metadata": {},
   "outputs": [],
   "source": [
    "#end \n"
   ]
  },
  {
   "cell_type": "code",
   "execution_count": 112,
   "id": "fd7568ac-afba-4918-aa2a-8e5bb625a70a",
   "metadata": {},
   "outputs": [],
   "source": [
    "lst = [1,2,[3,4],[5,[100,200,['hello']],23,11],1,7]"
   ]
  },
  {
   "cell_type": "code",
   "execution_count": 113,
   "id": "7129dd4e-ffb7-4568-a005-f20d686d8742",
   "metadata": {},
   "outputs": [
    {
     "data": {
      "text/plain": [
       "'hello'"
      ]
     },
     "execution_count": 113,
     "metadata": {},
     "output_type": "execute_result"
    }
   ],
   "source": [
    "lst[3][1][2][0]\n"
   ]
  },
  {
   "cell_type": "code",
   "execution_count": 114,
   "id": "d2930f7a-2cf2-4f9c-85a5-e98487b6ce7d",
   "metadata": {},
   "outputs": [],
   "source": [
    "d = {'k1':[1,2,3,{'tricky':['oh','man','inception',{'target':[1,2,3,'hello']}]}]}"
   ]
  },
  {
   "cell_type": "code",
   "execution_count": 115,
   "id": "c8ab900d-bea5-48ee-a32c-50c3e42dbcca",
   "metadata": {},
   "outputs": [
    {
     "data": {
      "text/plain": [
       "'hello'"
      ]
     },
     "execution_count": 115,
     "metadata": {},
     "output_type": "execute_result"
    }
   ],
   "source": [
    "d['k1'][3]['tricky'][3]['target'][3]"
   ]
  },
  {
   "cell_type": "code",
   "execution_count": null,
   "id": "4bace47d-48fc-47e4-a2d5-1e850974122f",
   "metadata": {},
   "outputs": [],
   "source": [
    "#end q"
   ]
  },
  {
   "cell_type": "code",
   "execution_count": 122,
   "id": "8ae7ae35-8b78-4de2-80d6-24c15e555655",
   "metadata": {},
   "outputs": [],
   "source": [
    "x=5"
   ]
  },
  {
   "cell_type": "code",
   "execution_count": 123,
   "id": "b5274b66-99c2-45a4-a6e1-773f0d76eb7d",
   "metadata": {},
   "outputs": [],
   "source": [
    "y=4"
   ]
  },
  {
   "cell_type": "code",
   "execution_count": 124,
   "id": "7dee39c6-1ecb-4fd1-86dc-8b11baf8451f",
   "metadata": {},
   "outputs": [],
   "source": [
    "z = x"
   ]
  },
  {
   "cell_type": "code",
   "execution_count": 125,
   "id": "1f58f4ec-56b3-49ca-855b-7e0d5cfc2aa8",
   "metadata": {},
   "outputs": [],
   "source": [
    "x = y\n"
   ]
  },
  {
   "cell_type": "code",
   "execution_count": 129,
   "id": "4382437e-d50f-4abd-8412-8fd28805597f",
   "metadata": {},
   "outputs": [],
   "source": [
    "y = z"
   ]
  },
  {
   "cell_type": "code",
   "execution_count": 127,
   "id": "e73e38fa-7214-45b9-8268-9b5ff5bb37d6",
   "metadata": {},
   "outputs": [
    {
     "data": {
      "text/plain": [
       "4"
      ]
     },
     "execution_count": 127,
     "metadata": {},
     "output_type": "execute_result"
    }
   ],
   "source": [
    "x"
   ]
  },
  {
   "cell_type": "code",
   "execution_count": 128,
   "id": "73d426a2-543a-4c7c-a2b2-882e68993dec",
   "metadata": {},
   "outputs": [
    {
     "data": {
      "text/plain": [
       "5"
      ]
     },
     "execution_count": 128,
     "metadata": {},
     "output_type": "execute_result"
    }
   ],
   "source": [
    "y"
   ]
  },
  {
   "cell_type": "code",
   "execution_count": null,
   "id": "c98f0819-7218-4c2b-a4ca-80752213973f",
   "metadata": {},
   "outputs": [],
   "source": []
  }
 ],
 "metadata": {
  "kernelspec": {
   "display_name": "Python 3 (ipykernel)",
   "language": "python",
   "name": "python3"
  },
  "language_info": {
   "codemirror_mode": {
    "name": "ipython",
    "version": 3
   },
   "file_extension": ".py",
   "mimetype": "text/x-python",
   "name": "python",
   "nbconvert_exporter": "python",
   "pygments_lexer": "ipython3",
   "version": "3.9.13"
  }
 },
 "nbformat": 4,
 "nbformat_minor": 5
}
